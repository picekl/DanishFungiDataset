{
 "cells": [
  {
   "cell_type": "code",
   "execution_count": null,
   "id": "2e2d0361-f4fa-471b-af13-713de37e81d7",
   "metadata": {
    "tags": []
   },
   "outputs": [],
   "source": [
    "import os\n",
    "import pandas as pd"
   ]
  },
  {
   "cell_type": "code",
   "execution_count": null,
   "id": "6df179ec-ad60-4036-b7b7-e491a39e86bd",
   "metadata": {
    "tags": []
   },
   "outputs": [],
   "source": [
    "metadata = pd.read_csv(\"../../DanishFungiDataset-Data/FungiCLEF2023_train_metadata_PRODUCTION.csv\")"
   ]
  },
  {
   "cell_type": "code",
   "execution_count": null,
   "id": "215a792b-fa19-4ef6-905e-1001633460e9",
   "metadata": {
    "tags": []
   },
   "outputs": [],
   "source": [
    "metadata"
   ]
  },
  {
   "cell_type": "code",
   "execution_count": null,
   "id": "5e543471-5f27-4a54-b76c-bb5f782b152a",
   "metadata": {
    "tags": []
   },
   "outputs": [],
   "source": [
    "metadata[\"image_path\"] = metadata.image_path.apply(lambda path: os.path.join(\"DF20\", path))"
   ]
  },
  {
   "cell_type": "code",
   "execution_count": null,
   "id": "9e7637b8-f150-44b9-a72c-ddc04f92f0ff",
   "metadata": {
    "tags": []
   },
   "outputs": [],
   "source": [
    "observations = metadata.drop_duplicates(subset=\"observationID\")"
   ]
  },
  {
   "cell_type": "code",
   "execution_count": null,
   "id": "9c564b88-083e-42e0-8871-0ea682a944d7",
   "metadata": {
    "tags": []
   },
   "outputs": [],
   "source": [
    "from sklearn.model_selection import train_test_split\n",
    "\n",
    "train_metadata, minval_metadata = train_test_split(observations, test_size=0.1, random_state=666, stratify=observations['class_id'])"
   ]
  },
  {
   "cell_type": "code",
   "execution_count": null,
   "id": "5e2285c7-3932-482b-9556-eab9db072859",
   "metadata": {
    "tags": []
   },
   "outputs": [],
   "source": [
    "train_metadata = metadata[metadata.observationID.isin(train_metadata.observationID)].reset_index(drop=True)\n",
    "minval_metadata = metadata[metadata.observationID.isin(minval_metadata.observationID)].reset_index(drop=True)"
   ]
  },
  {
   "cell_type": "code",
   "execution_count": null,
   "id": "3dbca9ed-6058-4d35-93f1-91f3694fc5d7",
   "metadata": {
    "tags": []
   },
   "outputs": [],
   "source": [
    "train_metadata.to_csv(\"../metadata/DanishFungi2023-train_metadata-v0.1.csv\", index=None)\n",
    "minval_metadata.to_csv(\"../metadata/DanishFungi2023-val_metadata-v0.1.csv\", index=None)"
   ]
  },
  {
   "cell_type": "code",
   "execution_count": null,
   "id": "03d2916f-b381-46ca-9d4d-adf4813908a0",
   "metadata": {
    "tags": []
   },
   "outputs": [],
   "source": [
    "metadata"
   ]
  },
  {
   "cell_type": "code",
   "execution_count": null,
   "id": "d1d74f82-f790-40c5-8255-f7631c2f96aa",
   "metadata": {
    "tags": []
   },
   "outputs": [],
   "source": [
    "import matplotlib.pyplot as plt\n",
    "import seaborn as sns\n"
   ]
  },
  {
   "cell_type": "code",
   "execution_count": null,
   "id": "24a5b21d-9d87-41a1-babc-2955ca5b39cb",
   "metadata": {
    "tags": []
   },
   "outputs": [],
   "source": [
    "def show_counts(metadata, column=\"name\", figsize=(10, 10)):\n",
    "    label_freq = metadata[column].astype(str).value_counts()\n",
    "    # label_freq = metadata_df[\"Species\"].astype(str).value_counts()\n",
    "\n",
    "    plt.figure(figsize=figsize)\n",
    "    sns.barplot(y=label_freq.index, x=label_freq, order=label_freq.index)\n",
    "    for i, val in enumerate(label_freq):\n",
    "        plt.text(\n",
    "            x=val + 100,\n",
    "            y=i,\n",
    "            s=f\"{val:,d} ({val / label_freq.sum():.1%})\",\n",
    "            ha=\"left\",\n",
    "            va=\"center\",\n",
    "            fontsize=10,\n",
    "        )\n",
    "    plt.title(f\"Category label frequency\", fontsize=14)\n",
    "    plt.xlabel(\"\")\n",
    "    plt.xticks(fontsize=10)\n",
    "    plt.yticks(fontsize=10)\n",
    "    plt.show()"
   ]
  },
  {
   "cell_type": "code",
   "execution_count": null,
   "id": "6cc93cab-e121-4ada-a17b-917c1d3a1339",
   "metadata": {
    "tags": []
   },
   "outputs": [],
   "source": [
    "show_counts(metadata, \"MetaSubstrate\", (10,4))"
   ]
  },
  {
   "cell_type": "code",
   "execution_count": null,
   "id": "6c0f40f5-6b1a-4ddc-b0b0-eaa2f2d46d0f",
   "metadata": {
    "tags": []
   },
   "outputs": [],
   "source": [
    "show_counts(metadata, \"Habitat\", (10,10))"
   ]
  },
  {
   "cell_type": "code",
   "execution_count": null,
   "id": "1f9a59b0-a8eb-4392-a30a-6961bbb3a8eb",
   "metadata": {
    "tags": []
   },
   "outputs": [],
   "source": [
    "len(metadata[metadata.Habitat.isna()].taxonID.unique())"
   ]
  },
  {
   "cell_type": "code",
   "execution_count": null,
   "id": "30189579-2549-4e80-98fc-69180a607447",
   "metadata": {},
   "outputs": [],
   "source": []
  }
 ],
 "metadata": {
  "kernelspec": {
   "display_name": "Python 3 (ipykernel)",
   "language": "python",
   "name": "python3"
  },
  "language_info": {
   "codemirror_mode": {
    "name": "ipython",
    "version": 3
   },
   "file_extension": ".py",
   "mimetype": "text/x-python",
   "name": "python",
   "nbconvert_exporter": "python",
   "pygments_lexer": "ipython3",
   "version": "3.8.10"
  }
 },
 "nbformat": 4,
 "nbformat_minor": 5
}
